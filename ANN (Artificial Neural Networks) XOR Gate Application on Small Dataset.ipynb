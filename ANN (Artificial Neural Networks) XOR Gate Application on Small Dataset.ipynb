{
 "cells": [
  {
   "cell_type": "code",
   "execution_count": 2,
   "id": "4c15fa06",
   "metadata": {},
   "outputs": [],
   "source": [
    "import numpy as np"
   ]
  },
  {
   "cell_type": "code",
   "execution_count": 3,
   "id": "cdd1b10d",
   "metadata": {},
   "outputs": [],
   "source": [
    "def sigmoid(x):\n",
    "    return 1/(1+np.exp(-x))"
   ]
  },
  {
   "cell_type": "code",
   "execution_count": 4,
   "id": "ddb10654",
   "metadata": {},
   "outputs": [],
   "source": [
    "def sigmoid_derivative(x):\n",
    "    return x*(1-x)"
   ]
  },
  {
   "cell_type": "code",
   "execution_count": 22,
   "id": "f1a094c4",
   "metadata": {},
   "outputs": [],
   "source": [
    "# Input datasets\n",
    "inputs = np.array([[0,0],[1,1],[0,1],[1,0]]) # XOR input\n",
    "expected_output = np.array([[0],[0],[1],[1]]) # XOR output"
   ]
  },
  {
   "cell_type": "code",
   "execution_count": 23,
   "id": "531426e1",
   "metadata": {},
   "outputs": [],
   "source": [
    "epochs = 20000\n",
    "lr = 0.1\n",
    "m=4"
   ]
  },
  {
   "cell_type": "code",
   "execution_count": 64,
   "id": "e9a3c60a",
   "metadata": {},
   "outputs": [
    {
     "data": {
      "text/plain": [
       "(4, 2)"
      ]
     },
     "execution_count": 64,
     "metadata": {},
     "output_type": "execute_result"
    }
   ],
   "source": [
    "inputs.shape\n",
    "#expected_output.shape"
   ]
  },
  {
   "cell_type": "code",
   "execution_count": 49,
   "id": "527a5432",
   "metadata": {},
   "outputs": [],
   "source": [
    "inputLayerNeurons,hiddenLayerNeurons,outputLayerNeurons = 2,2,1"
   ]
  },
  {
   "cell_type": "code",
   "execution_count": 62,
   "id": "4d6b9b44",
   "metadata": {},
   "outputs": [],
   "source": [
    "# Random weights and bias initialization\n",
    "hidden_weights = np.random.uniform(size = (inputLayerNeurons,hiddenLayerNeurons))\n",
    "hidden_bias = np.random.uniform(size = (4,hiddenLayerNeurons))\n",
    "\n",
    "output_weights = np.random.uniform(size = (hiddenLayerNeurons,outputLayerNeurons))\n",
    "output_bias = np.random.uniform(size = (4,outputLayerNeurons))"
   ]
  },
  {
   "cell_type": "code",
   "execution_count": 51,
   "id": "3563d28b",
   "metadata": {},
   "outputs": [
    {
     "name": "stdout",
     "output_type": "stream",
     "text": [
      "Initial hidden weights: [0.84363133 0.29155143] [0.66905183 0.25541793]\n",
      "Initial hidden biases: [0.92796848 0.69264733] [0.42211487 0.33331075] [0.18059132 0.32585705] [0.96974027 0.38327048]\n",
      "Initial output weights: [0.67263613] [0.4420717]\n",
      "Initial output biases: [0.47360672] [0.40115936] [0.18470503] [0.38314717]\n"
     ]
    }
   ],
   "source": [
    "print('Initial hidden weights: ',end='')\n",
    "print(*hidden_weights)\n",
    "print('Initial hidden biases: ',end='')\n",
    "print(*hidden_bias)\n",
    "print('Initial output weights: ',end='')\n",
    "print(*output_weights)\n",
    "print('Initial output biases: ',end='')\n",
    "print(*output_bias)"
   ]
  },
  {
   "cell_type": "code",
   "execution_count": 66,
   "id": "2ff43628",
   "metadata": {},
   "outputs": [
    {
     "data": {
      "text/plain": [
       "(4, 2)"
      ]
     },
     "execution_count": 66,
     "metadata": {},
     "output_type": "execute_result"
    }
   ],
   "source": [
    "#hidden_weights = hidden_weights.reshape(2,-1)\n",
    "#hidden_bias = hidden_bias.reshape(2,2)\n",
    "hidden_weights.shape\n",
    "hidden_bias.shape"
   ]
  },
  {
   "cell_type": "code",
   "execution_count": 53,
   "id": "8fb66b9f",
   "metadata": {},
   "outputs": [],
   "source": [
    "# Training Algorithm\n",
    "for _ in range(epochs):\n",
    "    \n",
    "    #Forward Propagation for finding predicted values\n",
    "    hidden_layer_activation = np.dot(inputs,hidden_weights)\n",
    "    hidden_layer_activation += hidden_bias\n",
    "    hidden_layer_output = sigmoid(hidden_layer_activation)   #1st half completed\n",
    "    \n",
    "    output_layer_activation = np.dot(hidden_layer_output,output_weights)\n",
    "    output_layer_activation += output_bias\n",
    "    predicted_output = sigmoid(output_layer_activation)      #2nd half completed\n",
    "    \n",
    "    #Backward Propagation for finding the weights\n",
    "    error = expected_output-predicted_output\n",
    "    d_predicted_output = error*sigmoid_derivative(predicted_output)   #Backward pass at output layer\n",
    "    \n",
    "    error_hidden_layer = d_predicted_output.dot(output_weights.T)\n",
    "    d_hidden_layer = error_hidden_layer*sigmoid_derivative(hidden_layer_output)   #Backward pass at hidden layer\n",
    "    \n",
    "    #Updating Weights and Biases\n",
    "    output_weights += hidden_layer_output.T.dot(d_predicted_output)*lr\n",
    "    output_bias += np.sum(d_predicted_output,axis=0,keepdims=True)*lr\n",
    "    hidden_weights += inputs.T.dot(d_hidden_layer)*lr\n",
    "    hidden_bias += np.sum(d_hidden_layer,axis=1,keepdims=True)*lr"
   ]
  },
  {
   "cell_type": "code",
   "execution_count": 54,
   "id": "b7fff7bf",
   "metadata": {},
   "outputs": [
    {
     "name": "stdout",
     "output_type": "stream",
     "text": [
      "Final hidden weights: [-0.17799383 -0.04678196] [ 0.09094241 -0.07833904]\n",
      "Final hidden biases: [-3.03662113 -3.27194228] [-3.02418409 -3.11298822] [2.71502389 2.86028962] [3.05608068 2.46961089]\n",
      "Final output weights: [4.54897927] [5.05127916]\n",
      "Final output biases: [-4.42248915] [-4.49493652] [-4.71139084] [-4.5129487]\n"
     ]
    }
   ],
   "source": [
    "print('Final hidden weights: ',end='')\n",
    "print(*hidden_weights)\n",
    "print('Final hidden biases: ',end='')\n",
    "print(*hidden_bias)\n",
    "print('Final output weights: ',end='')\n",
    "print(*output_weights)\n",
    "print('Final output biases: ',end='')\n",
    "print(*output_bias)"
   ]
  },
  {
   "cell_type": "code",
   "execution_count": 55,
   "id": "efad4728",
   "metadata": {},
   "outputs": [
    {
     "name": "stdout",
     "output_type": "stream",
     "text": [
      "\n",
      "Output from neutral network: [0.01747218] [0.01613983] [0.98706768] [0.98826809]\n"
     ]
    }
   ],
   "source": [
    "print('\\nOutput from neutral network: ',end='')\n",
    "print(*predicted_output)"
   ]
  },
  {
   "cell_type": "code",
   "execution_count": null,
   "id": "5f988bde",
   "metadata": {},
   "outputs": [],
   "source": []
  }
 ],
 "metadata": {
  "kernelspec": {
   "display_name": "Python 3 (ipykernel)",
   "language": "python",
   "name": "python3"
  },
  "language_info": {
   "codemirror_mode": {
    "name": "ipython",
    "version": 3
   },
   "file_extension": ".py",
   "mimetype": "text/x-python",
   "name": "python",
   "nbconvert_exporter": "python",
   "pygments_lexer": "ipython3",
   "version": "3.10.4"
  }
 },
 "nbformat": 4,
 "nbformat_minor": 5
}
